{
  "nbformat": 4,
  "nbformat_minor": 0,
  "metadata": {
    "colab": {
      "provenance": [],
      "authorship_tag": "ABX9TyNCabfMZ9CLhKDYZ7lk6i9S",
      "include_colab_link": true
    },
    "kernelspec": {
      "name": "python3",
      "display_name": "Python 3"
    },
    "language_info": {
      "name": "python"
    }
  },
  "cells": [
    {
      "cell_type": "markdown",
      "metadata": {
        "id": "view-in-github",
        "colab_type": "text"
      },
      "source": [
        "<a href=\"https://colab.research.google.com/github/rrubisze/jupyter-learning/blob/master/cat_or_dog_neural_network.ipynb\" target=\"_parent\"><img src=\"https://colab.research.google.com/assets/colab-badge.svg\" alt=\"Open In Colab\"/></a>"
      ]
    },
    {
      "cell_type": "markdown",
      "source": [
        "# First neural network comapring cat and dogs images\n",
        "\n",
        "---\n",
        "\n",
        "First what I need to get some example images with cat and dogs. For using that I will use a duckduckgo search and store 100 sample cat and dog images.\n",
        "\n",
        "To easy collect images I will use jmd_imagescraper libarary (source: https://joedockrill.github.io/jmd_imagescraper/).\n",
        "\n",
        "\n"
      ],
      "metadata": {
        "id": "CRbPH04q8b8O"
      }
    },
    {
      "cell_type": "code",
      "source": [
        "!pip install jmd_imagescraper"
      ],
      "metadata": {
        "id": "0euNn9B9C_vD"
      },
      "execution_count": null,
      "outputs": []
    },
    {
      "cell_type": "code",
      "execution_count": null,
      "metadata": {
        "id": "I1nKMHVU8LYj"
      },
      "outputs": [],
      "source": [
        "from pathlib import Path\n",
        "from jmd_imagescraper.core import * \n",
        "\n",
        "imagesRootPath = Path().cwd()/\"images\"\n",
        "\n",
        "duckduckgo_search(imagesRootPath, \"Cats\", \"cat\", 200)\n",
        "duckduckgo_search(imagesRootPath, \"Dogs\", \"dog\", 200)"
      ]
    },
    {
      "cell_type": "markdown",
      "source": [
        "Next, I will resize images"
      ],
      "metadata": {
        "id": "Sdxp_vPEFBMp"
      }
    },
    {
      "cell_type": "code",
      "source": [
        "import os\n",
        "import torch\n",
        "import torchvision.transforms as Transforms\n",
        "from PIL import Image"
      ],
      "metadata": {
        "id": "mj94FeHjHS_0"
      },
      "execution_count": 10,
      "outputs": []
    },
    {
      "cell_type": "markdown",
      "source": [
        "Resize cat images"
      ],
      "metadata": {
        "id": "0S4-ioOLIkZI"
      }
    },
    {
      "cell_type": "code",
      "source": [
        "for image in os.listdir(imagesRootPath/\"Cats\"):\n",
        "    print(image)\n",
        "    img = Image.open(imagesRootPath/\"Cats\"/image)\n",
        "    transform = Transforms.Resize(size = (200, 200))\n",
        "    img = transform(img)\n"
      ],
      "metadata": {
        "colab": {
          "base_uri": "https://localhost:8080/"
        },
        "id": "RsxPkSYAInwY",
        "outputId": "fa810264-b41b-416a-c0f2-a219ccbba1e5"
      },
      "execution_count": 12,
      "outputs": [
        {
          "output_type": "stream",
          "name": "stdout",
          "text": [
            "161_ce62065a.jpg\n",
            "078_0c48a8b9.jpg\n",
            "023_33a0c9e5.jpg\n",
            "037_66d52a35.jpg\n",
            "089_a74d5894.jpg\n",
            "111_606a8847.jpg\n",
            "047_f7e00fdf.jpg\n",
            "172_5a60741f.jpg\n",
            "060_a4672fb0.jpg\n",
            "098_ec6b9ed9.jpg\n",
            "096_3177d532.jpg\n",
            "087_cb90ad4b.jpg\n",
            "061_169191a1.jpg\n",
            "046_82156479.jpg\n",
            "127_aeb70e47.jpg\n",
            "026_5e3035ba.jpg\n",
            "072_39bd8209.jpg\n",
            "076_6e20c733.jpg\n",
            "095_ce293b20.jpg\n",
            "030_f55355f2.jpg\n",
            "084_c1cbe7bd.jpg\n",
            "112_26121ba0.jpg\n",
            "038_45cbb049.jpg\n",
            "170_02e1da40.jpg\n",
            "173_6158fc33.jpg\n",
            "158_74912370.jpg\n",
            "077_130f353d.jpg\n",
            "177_a011e034.jpg\n",
            "174_4f4ec1c9.jpg\n",
            "088_f7f0c6da.jpg\n",
            "008_3c5ac5ff.jpg\n",
            "166_45d3eaa3.jpg\n",
            "013_76c8c3b1.jpg\n",
            "024_77259d8c.jpg\n",
            "082_7fc503bc.jpg\n",
            "104_5d87ba15.jpg\n",
            "058_16e3d2d6.jpg\n",
            "130_eb82e315.jpg\n",
            "160_14915f07.jpg\n",
            "121_97f6dcbf.jpg\n",
            "147_90e6fecb.jpg\n",
            "183_08ba743b.jpg\n",
            "073_dbf95e18.jpg\n",
            "193_3c472a8c.jpg\n",
            "140_d02d0b70.jpg\n",
            "124_6bc04054.jpg\n",
            "146_32181fb9.jpg\n",
            "009_bf9fca4f.jpg\n",
            "028_c124bbe5.jpg\n",
            "045_b3aa2226.jpg\n",
            "090_b2e17a59.jpg\n",
            "051_7e3a5a76.jpg\n",
            "015_e7ee0fe5.jpg\n",
            "144_5494571e.jpg\n",
            "154_a8c22644.jpg\n",
            "032_253d613b.jpg\n",
            "092_16054bca.jpg\n",
            "055_2796300d.jpg\n",
            "093_59fc3c3e.jpg\n",
            "027_414868bd.jpg\n",
            "031_ff9a169f.jpg\n",
            "164_e749a595.jpg\n",
            "099_c79f353b.jpg\n",
            "114_e01ad241.jpg\n",
            "102_6dae9f3f.jpg\n",
            "108_4a64ee3e.jpg\n",
            "080_e34708d7.jpg\n",
            "132_93b39396.jpg\n",
            "116_3197efba.jpg\n",
            "195_6a64b4a4.jpg\n",
            "029_7caba809.jpg\n",
            "103_e45afff3.jpg\n",
            "180_f8a86ebb.jpg\n",
            "070_dca1317a.jpg\n",
            "043_4d020551.jpg\n",
            "117_e968d3d9.jpg\n",
            "021_a5b2a064.jpg\n",
            "036_bdeef01d.jpg\n",
            "200_362ce023.jpg\n",
            "010_e0184239.jpg\n",
            "167_3ad8af98.jpg\n",
            "062_dfee0126.jpg\n",
            "033_91ab7156.jpg\n",
            "143_50e8c1f6.jpg\n",
            "194_0530e44b.jpg\n",
            "053_a95389b6.jpg\n",
            "016_4639c432.jpg\n",
            "184_734c9bc9.jpg\n",
            "189_2d581107.jpg\n",
            "123_6bfa9a40.jpg\n",
            "004_7ff3eeb9.jpg\n",
            "005_1d143aeb.jpg\n",
            "074_4d47adff.jpg\n",
            "118_33b4df5d.jpg\n",
            "125_e1d70a4f.jpg\n",
            "105_d5b5cf41.jpg\n",
            "056_bf242da6.jpg\n",
            "191_82d82803.jpg\n",
            "113_82e3c760.jpg\n",
            "199_f140369b.jpg\n",
            "106_97ad7abd.jpg\n",
            "018_faf8bfe9.jpg\n",
            "063_ef635bc8.jpg\n",
            "064_c106426b.jpg\n",
            "150_6a5355ea.jpg\n",
            "138_45638b05.jpg\n",
            "044_e858dccd.jpg\n",
            "071_5f2740f3.jpg\n",
            "075_d5e23270.jpg\n",
            "162_99ec1974.jpg\n",
            "081_8ce5319a.jpg\n",
            "151_4e4dd93e.jpg\n",
            "197_261a01d4.jpg\n",
            "137_fdccaaa4.jpg\n",
            "041_d823a8d1.jpg\n",
            "022_82313fca.jpg\n",
            "153_f61e4ca5.jpg\n",
            "069_1aca9e62.jpg\n",
            "034_71708026.jpg\n",
            "057_28013cbb.jpg\n",
            "097_9c73a38b.jpg\n",
            "152_369335c6.jpg\n",
            "019_a60f703c.jpg\n",
            "139_046a9437.jpg\n",
            "179_b313d824.jpg\n",
            "148_b8075e08.jpg\n",
            "039_53d71626.jpg\n",
            "110_d596c988.jpg\n",
            "135_b050fa71.jpg\n",
            "185_41d91f4d.jpg\n",
            "086_444e7890.jpg\n",
            "119_64beb70f.jpg\n",
            "101_4d59ab5a.jpg\n",
            "003_8a8c7cab.jpg\n",
            "012_f9108d90.jpg\n",
            "181_8a612179.jpg\n",
            "128_3f6e058e.jpg\n",
            "020_911064db.jpg\n",
            "059_b1e65991.jpg\n",
            "007_4225ea11.jpg\n",
            "035_26b0d623.jpg\n",
            "079_0cdcafc4.jpg\n",
            "120_2843a59f.jpg\n",
            "169_9da08905.jpg\n",
            "042_fe538621.jpg\n",
            "163_42321cfd.jpg\n",
            "025_eef38337.jpg\n",
            "134_160d8a0c.jpg\n",
            "083_8e058656.jpg\n",
            "017_04c39878.jpg\n",
            "188_91384af4.jpg\n",
            "133_48d89ced.jpg\n",
            "192_497dd731.jpg\n",
            "048_973f5c52.jpg\n",
            "182_5ff9f41f.jpg\n",
            "168_f83a40cf.jpg\n",
            "156_e26decc3.jpg\n",
            "067_44d7bc07.jpg\n",
            "155_59bf6ebb.jpg\n",
            "157_19792a31.jpg\n",
            "109_ef74f08c.jpg\n",
            "190_512fe674.jpg\n",
            "175_907e1bad.jpg\n",
            "085_5ca50b9d.jpg\n",
            "142_dfe89a67.jpg\n",
            "065_c12684f0.jpg\n",
            "131_2a46d6aa.jpg\n",
            "149_a8140bb6.jpg\n",
            "014_e41cecd0.jpg\n",
            "100_c27f0b42.jpg\n",
            "187_1321f961.jpg\n",
            "115_bdd7b76a.jpg\n",
            "052_e9cda8a4.jpg\n",
            "001_642b1571.jpg\n",
            "196_53cd3db2.jpg\n",
            "136_2515bb37.jpg\n",
            "107_facd3c76.jpg\n",
            "011_9e510fda.jpg\n",
            "171_d93d0bf9.jpg\n",
            "178_d32a6391.jpg\n",
            "126_0a54c3da.jpg\n",
            "186_92a21d94.jpg\n",
            "050_5073b030.jpg\n",
            "006_2f751ee5.jpg\n",
            "165_05ad5af1.jpg\n",
            "176_44a7a760.jpg\n",
            "094_620fa5bb.jpg\n",
            "049_129180f7.jpg\n",
            "066_3e173de3.jpg\n",
            "145_a1d74580.jpg\n",
            "068_49702b27.jpg\n",
            "002_44a1e488.jpg\n",
            "091_0896a22c.jpg\n",
            "054_e0109386.jpg\n",
            "141_c7ede76b.jpg\n",
            "040_a274f9df.jpg\n",
            "129_2e32a7a8.jpg\n",
            "122_4eb01b08.jpg\n",
            "198_e3f12475.jpg\n",
            "159_4c34e0c4.jpg\n"
          ]
        }
      ]
    }
  ]
}